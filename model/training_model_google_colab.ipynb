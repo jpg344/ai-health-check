{
  "nbformat": 4,
  "nbformat_minor": 0,
  "metadata": {
    "colab": {
      "provenance": []
    },
    "kernelspec": {
      "name": "python3",
      "display_name": "Python 3"
    },
    "language_info": {
      "name": "python"
    }
  },
  "cells": [
    {
      "cell_type": "code",
      "execution_count": null,
      "metadata": {
        "id": "n1YJg1CabcYO"
      },
      "outputs": [],
      "source": [
        "from google.colab import files"
      ]
    },
    {
      "cell_type": "code",
      "source": [
        "uploaded = files.upload()"
      ],
      "metadata": {
        "colab": {
          "base_uri": "https://localhost:8080/",
          "height": 73
        },
        "id": "ouug-7llgPmf",
        "outputId": "0a877a11-fafe-459f-fcaf-025c174e91ce"
      },
      "execution_count": null,
      "outputs": [
        {
          "output_type": "display_data",
          "data": {
            "text/plain": [
              "<IPython.core.display.HTML object>"
            ],
            "text/html": [
              "\n",
              "     <input type=\"file\" id=\"files-41852794-feb7-4dee-9d2a-cfed28becd68\" name=\"files[]\" multiple disabled\n",
              "        style=\"border:none\" />\n",
              "     <output id=\"result-41852794-feb7-4dee-9d2a-cfed28becd68\">\n",
              "      Upload widget is only available when the cell has been executed in the\n",
              "      current browser session. Please rerun this cell to enable.\n",
              "      </output>\n",
              "      <script>// Copyright 2017 Google LLC\n",
              "//\n",
              "// Licensed under the Apache License, Version 2.0 (the \"License\");\n",
              "// you may not use this file except in compliance with the License.\n",
              "// You may obtain a copy of the License at\n",
              "//\n",
              "//      http://www.apache.org/licenses/LICENSE-2.0\n",
              "//\n",
              "// Unless required by applicable law or agreed to in writing, software\n",
              "// distributed under the License is distributed on an \"AS IS\" BASIS,\n",
              "// WITHOUT WARRANTIES OR CONDITIONS OF ANY KIND, either express or implied.\n",
              "// See the License for the specific language governing permissions and\n",
              "// limitations under the License.\n",
              "\n",
              "/**\n",
              " * @fileoverview Helpers for google.colab Python module.\n",
              " */\n",
              "(function(scope) {\n",
              "function span(text, styleAttributes = {}) {\n",
              "  const element = document.createElement('span');\n",
              "  element.textContent = text;\n",
              "  for (const key of Object.keys(styleAttributes)) {\n",
              "    element.style[key] = styleAttributes[key];\n",
              "  }\n",
              "  return element;\n",
              "}\n",
              "\n",
              "// Max number of bytes which will be uploaded at a time.\n",
              "const MAX_PAYLOAD_SIZE = 100 * 1024;\n",
              "\n",
              "function _uploadFiles(inputId, outputId) {\n",
              "  const steps = uploadFilesStep(inputId, outputId);\n",
              "  const outputElement = document.getElementById(outputId);\n",
              "  // Cache steps on the outputElement to make it available for the next call\n",
              "  // to uploadFilesContinue from Python.\n",
              "  outputElement.steps = steps;\n",
              "\n",
              "  return _uploadFilesContinue(outputId);\n",
              "}\n",
              "\n",
              "// This is roughly an async generator (not supported in the browser yet),\n",
              "// where there are multiple asynchronous steps and the Python side is going\n",
              "// to poll for completion of each step.\n",
              "// This uses a Promise to block the python side on completion of each step,\n",
              "// then passes the result of the previous step as the input to the next step.\n",
              "function _uploadFilesContinue(outputId) {\n",
              "  const outputElement = document.getElementById(outputId);\n",
              "  const steps = outputElement.steps;\n",
              "\n",
              "  const next = steps.next(outputElement.lastPromiseValue);\n",
              "  return Promise.resolve(next.value.promise).then((value) => {\n",
              "    // Cache the last promise value to make it available to the next\n",
              "    // step of the generator.\n",
              "    outputElement.lastPromiseValue = value;\n",
              "    return next.value.response;\n",
              "  });\n",
              "}\n",
              "\n",
              "/**\n",
              " * Generator function which is called between each async step of the upload\n",
              " * process.\n",
              " * @param {string} inputId Element ID of the input file picker element.\n",
              " * @param {string} outputId Element ID of the output display.\n",
              " * @return {!Iterable<!Object>} Iterable of next steps.\n",
              " */\n",
              "function* uploadFilesStep(inputId, outputId) {\n",
              "  const inputElement = document.getElementById(inputId);\n",
              "  inputElement.disabled = false;\n",
              "\n",
              "  const outputElement = document.getElementById(outputId);\n",
              "  outputElement.innerHTML = '';\n",
              "\n",
              "  const pickedPromise = new Promise((resolve) => {\n",
              "    inputElement.addEventListener('change', (e) => {\n",
              "      resolve(e.target.files);\n",
              "    });\n",
              "  });\n",
              "\n",
              "  const cancel = document.createElement('button');\n",
              "  inputElement.parentElement.appendChild(cancel);\n",
              "  cancel.textContent = 'Cancel upload';\n",
              "  const cancelPromise = new Promise((resolve) => {\n",
              "    cancel.onclick = () => {\n",
              "      resolve(null);\n",
              "    };\n",
              "  });\n",
              "\n",
              "  // Wait for the user to pick the files.\n",
              "  const files = yield {\n",
              "    promise: Promise.race([pickedPromise, cancelPromise]),\n",
              "    response: {\n",
              "      action: 'starting',\n",
              "    }\n",
              "  };\n",
              "\n",
              "  cancel.remove();\n",
              "\n",
              "  // Disable the input element since further picks are not allowed.\n",
              "  inputElement.disabled = true;\n",
              "\n",
              "  if (!files) {\n",
              "    return {\n",
              "      response: {\n",
              "        action: 'complete',\n",
              "      }\n",
              "    };\n",
              "  }\n",
              "\n",
              "  for (const file of files) {\n",
              "    const li = document.createElement('li');\n",
              "    li.append(span(file.name, {fontWeight: 'bold'}));\n",
              "    li.append(span(\n",
              "        `(${file.type || 'n/a'}) - ${file.size} bytes, ` +\n",
              "        `last modified: ${\n",
              "            file.lastModifiedDate ? file.lastModifiedDate.toLocaleDateString() :\n",
              "                                    'n/a'} - `));\n",
              "    const percent = span('0% done');\n",
              "    li.appendChild(percent);\n",
              "\n",
              "    outputElement.appendChild(li);\n",
              "\n",
              "    const fileDataPromise = new Promise((resolve) => {\n",
              "      const reader = new FileReader();\n",
              "      reader.onload = (e) => {\n",
              "        resolve(e.target.result);\n",
              "      };\n",
              "      reader.readAsArrayBuffer(file);\n",
              "    });\n",
              "    // Wait for the data to be ready.\n",
              "    let fileData = yield {\n",
              "      promise: fileDataPromise,\n",
              "      response: {\n",
              "        action: 'continue',\n",
              "      }\n",
              "    };\n",
              "\n",
              "    // Use a chunked sending to avoid message size limits. See b/62115660.\n",
              "    let position = 0;\n",
              "    do {\n",
              "      const length = Math.min(fileData.byteLength - position, MAX_PAYLOAD_SIZE);\n",
              "      const chunk = new Uint8Array(fileData, position, length);\n",
              "      position += length;\n",
              "\n",
              "      const base64 = btoa(String.fromCharCode.apply(null, chunk));\n",
              "      yield {\n",
              "        response: {\n",
              "          action: 'append',\n",
              "          file: file.name,\n",
              "          data: base64,\n",
              "        },\n",
              "      };\n",
              "\n",
              "      let percentDone = fileData.byteLength === 0 ?\n",
              "          100 :\n",
              "          Math.round((position / fileData.byteLength) * 100);\n",
              "      percent.textContent = `${percentDone}% done`;\n",
              "\n",
              "    } while (position < fileData.byteLength);\n",
              "  }\n",
              "\n",
              "  // All done.\n",
              "  yield {\n",
              "    response: {\n",
              "      action: 'complete',\n",
              "    }\n",
              "  };\n",
              "}\n",
              "\n",
              "scope.google = scope.google || {};\n",
              "scope.google.colab = scope.google.colab || {};\n",
              "scope.google.colab._files = {\n",
              "  _uploadFiles,\n",
              "  _uploadFilesContinue,\n",
              "};\n",
              "})(self);\n",
              "</script> "
            ]
          },
          "metadata": {}
        },
        {
          "output_type": "stream",
          "name": "stdout",
          "text": [
            "Saving Patient Severity Score for Electronic Health Records.csv to Patient Severity Score for Electronic Health Records.csv\n"
          ]
        }
      ]
    },
    {
      "cell_type": "code",
      "source": [
        "import pandas as pd\n",
        "from sklearn.model_selection import train_test_split\n",
        "from sklearn.preprocessing import StandardScaler\n",
        "from keras.models import Sequential\n",
        "from keras.layers import Dense\n",
        "from matplotlib import pyplot"
      ],
      "metadata": {
        "id": "k6XJAUsAgR6N"
      },
      "execution_count": null,
      "outputs": []
    },
    {
      "cell_type": "code",
      "source": [
        "import keras\n",
        "print(keras.backend.backend())"
      ],
      "metadata": {
        "colab": {
          "base_uri": "https://localhost:8080/"
        },
        "id": "gt39cKsQiQh6",
        "outputId": "3f51c72d-bb05-4ce1-8f9b-e6886d1efdbc"
      },
      "execution_count": null,
      "outputs": [
        {
          "output_type": "stream",
          "name": "stdout",
          "text": [
            "tensorflow\n"
          ]
        }
      ]
    },
    {
      "cell_type": "code",
      "source": [
        "#Laden des Datensatzes\n",
        "data = pd.read_csv(\"Patient Severity Score for Electronic Health Records.csv\")\n",
        "print(type(data))\n",
        "data.head()\n",
        "print(data.ndim)\n",
        "print(data.shape)"
      ],
      "metadata": {
        "colab": {
          "base_uri": "https://localhost:8080/"
        },
        "id": "aKVOjPyRii5C",
        "outputId": "f181c0fd-1847-4ef6-e9b3-3df9118eeb9b"
      },
      "execution_count": null,
      "outputs": [
        {
          "output_type": "stream",
          "name": "stdout",
          "text": [
            "<class 'pandas.core.frame.DataFrame'>\n",
            "2\n",
            "(79540, 7)\n"
          ]
        }
      ]
    },
    {
      "cell_type": "code",
      "source": [
        "#Features und Labels definieren\n",
        "features = data[[\"TEMPF\",\"PULSE\",\"RESPR\",\"BPSYS\",\"BPDIAS\",\"POPCT\"]]\n",
        "label = data[\"SCORE\"]\n",
        "\n",
        "print(type(features))\n",
        "print(type(label))\n",
        "\n",
        "\n",
        "#Daten in Trainings- und Testsets aufteilen\n",
        "\n",
        "train_features, test_features, train_labels, test_labels = train_test_split(features, label, test_size= 0.2, random_state= 0)\n",
        "\n",
        "print(features.shape)\n",
        "print(features.ndim)\n",
        "print(\"\")\n",
        "print(label.shape)\n",
        "print(label.ndim)"
      ],
      "metadata": {
        "colab": {
          "base_uri": "https://localhost:8080/"
        },
        "id": "Uih1cOa_kQu6",
        "outputId": "ff35cbe6-6882-4c5d-be4d-14b2fe207b62"
      },
      "execution_count": null,
      "outputs": [
        {
          "output_type": "stream",
          "name": "stdout",
          "text": [
            "<class 'pandas.core.frame.DataFrame'>\n",
            "<class 'pandas.core.series.Series'>\n",
            "(79540, 6)\n",
            "2\n",
            "\n",
            "(79540,)\n",
            "1\n"
          ]
        }
      ]
    },
    {
      "cell_type": "code",
      "source": [
        "#Merkmale normalisieren\n",
        "scalar = StandardScaler()\n",
        "train_features = scalar.fit_transform(train_features)\n",
        "test_features = scalar.transform(test_features)"
      ],
      "metadata": {
        "id": "pH5SkRFRpsJh"
      },
      "execution_count": null,
      "outputs": []
    },
    {
      "cell_type": "code",
      "source": [
        "#Modell aufstellen\n",
        "model = Sequential()\n",
        "model.add(Dense(units=64, activation='relu', input_dim=train_features.shape[1]))\n",
        "model.add(Dense(units=64, activation='relu'))\n",
        "model.add(Dense(units=4, activation='softmax'))"
      ],
      "metadata": {
        "colab": {
          "base_uri": "https://localhost:8080/"
        },
        "id": "SIcLQrCWr80t",
        "outputId": "40c7d67a-b2dd-4147-8c3e-212fc39f5d2d"
      },
      "execution_count": null,
      "outputs": [
        {
          "output_type": "stream",
          "name": "stderr",
          "text": [
            "/usr/local/lib/python3.10/dist-packages/keras/src/layers/core/dense.py:87: UserWarning: Do not pass an `input_shape`/`input_dim` argument to a layer. When using Sequential models, prefer using an `Input(shape)` object as the first layer in the model instead.\n",
            "  super().__init__(activity_regularizer=activity_regularizer, **kwargs)\n"
          ]
        }
      ]
    },
    {
      "cell_type": "code",
      "source": [
        "# Modell kompilieren\n",
        " #model.compile(optimizer='sgd', loss='sparse_categorical_crossentropy', metrics=['accuracy'])\n",
        "from keras.optimizers import SGD\n",
        "model.compile(optimizer= SGD(learning_rate=0.01), loss='sparse_categorical_crossentropy', metrics=['accuracy'])"
      ],
      "metadata": {
        "id": "jmTGJ3nrxcTF"
      },
      "execution_count": null,
      "outputs": []
    },
    {
      "cell_type": "code",
      "source": [
        "# Modell trainieren\n",
        "history = model.fit(train_features, train_labels, epochs=70, batch_size=32, validation_split=0.2)"
      ],
      "metadata": {
        "colab": {
          "base_uri": "https://localhost:8080/"
        },
        "id": "X1AYgpiGzByU",
        "outputId": "c40c9e29-9220-4b12-88ef-db5890ce72d5"
      },
      "execution_count": null,
      "outputs": [
        {
          "output_type": "stream",
          "name": "stdout",
          "text": [
            "Epoch 1/70\n",
            "\u001b[1m1591/1591\u001b[0m \u001b[32m━━━━━━━━━━━━━━━━━━━━\u001b[0m\u001b[37m\u001b[0m \u001b[1m7s\u001b[0m 3ms/step - accuracy: 0.6089 - loss: 1.0020 - val_accuracy: 0.7747 - val_loss: 0.6153\n",
            "Epoch 2/70\n",
            "\u001b[1m1591/1591\u001b[0m \u001b[32m━━━━━━━━━━━━━━━━━━━━\u001b[0m\u001b[37m\u001b[0m \u001b[1m7s\u001b[0m 1ms/step - accuracy: 0.7886 - loss: 0.5701 - val_accuracy: 0.8268 - val_loss: 0.4447\n",
            "Epoch 3/70\n",
            "\u001b[1m1591/1591\u001b[0m \u001b[32m━━━━━━━━━━━━━━━━━━━━\u001b[0m\u001b[37m\u001b[0m \u001b[1m3s\u001b[0m 1ms/step - accuracy: 0.8354 - loss: 0.4209 - val_accuracy: 0.8620 - val_loss: 0.3603\n",
            "Epoch 4/70\n",
            "\u001b[1m1591/1591\u001b[0m \u001b[32m━━━━━━━━━━━━━━━━━━━━\u001b[0m\u001b[37m\u001b[0m \u001b[1m4s\u001b[0m 2ms/step - accuracy: 0.8638 - loss: 0.3452 - val_accuracy: 0.8810 - val_loss: 0.3080\n",
            "Epoch 5/70\n",
            "\u001b[1m1591/1591\u001b[0m \u001b[32m━━━━━━━━━━━━━━━━━━━━\u001b[0m\u001b[37m\u001b[0m \u001b[1m4s\u001b[0m 1ms/step - accuracy: 0.8897 - loss: 0.2973 - val_accuracy: 0.8989 - val_loss: 0.2720\n",
            "Epoch 6/70\n",
            "\u001b[1m1591/1591\u001b[0m \u001b[32m━━━━━━━━━━━━━━━━━━━━\u001b[0m\u001b[37m\u001b[0m \u001b[1m3s\u001b[0m 1ms/step - accuracy: 0.9051 - loss: 0.2575 - val_accuracy: 0.9124 - val_loss: 0.2393\n",
            "Epoch 7/70\n",
            "\u001b[1m1591/1591\u001b[0m \u001b[32m━━━━━━━━━━━━━━━━━━━━\u001b[0m\u001b[37m\u001b[0m \u001b[1m3s\u001b[0m 2ms/step - accuracy: 0.9181 - loss: 0.2280 - val_accuracy: 0.9232 - val_loss: 0.2140\n",
            "Epoch 8/70\n",
            "\u001b[1m1591/1591\u001b[0m \u001b[32m━━━━━━━━━━━━━━━━━━━━\u001b[0m\u001b[37m\u001b[0m \u001b[1m3s\u001b[0m 2ms/step - accuracy: 0.9262 - loss: 0.2069 - val_accuracy: 0.9282 - val_loss: 0.1938\n",
            "Epoch 9/70\n",
            "\u001b[1m1591/1591\u001b[0m \u001b[32m━━━━━━━━━━━━━━━━━━━━\u001b[0m\u001b[37m\u001b[0m \u001b[1m4s\u001b[0m 1ms/step - accuracy: 0.9311 - loss: 0.1895 - val_accuracy: 0.9326 - val_loss: 0.1786\n",
            "Epoch 10/70\n",
            "\u001b[1m1591/1591\u001b[0m \u001b[32m━━━━━━━━━━━━━━━━━━━━\u001b[0m\u001b[37m\u001b[0m \u001b[1m3s\u001b[0m 2ms/step - accuracy: 0.9363 - loss: 0.1748 - val_accuracy: 0.9377 - val_loss: 0.1644\n",
            "Epoch 11/70\n",
            "\u001b[1m1591/1591\u001b[0m \u001b[32m━━━━━━━━━━━━━━━━━━━━\u001b[0m\u001b[37m\u001b[0m \u001b[1m3s\u001b[0m 2ms/step - accuracy: 0.9400 - loss: 0.1629 - val_accuracy: 0.9362 - val_loss: 0.1576\n",
            "Epoch 12/70\n",
            "\u001b[1m1591/1591\u001b[0m \u001b[32m━━━━━━━━━━━━━━━━━━━━\u001b[0m\u001b[37m\u001b[0m \u001b[1m3s\u001b[0m 2ms/step - accuracy: 0.9451 - loss: 0.1503 - val_accuracy: 0.9454 - val_loss: 0.1466\n",
            "Epoch 13/70\n",
            "\u001b[1m1591/1591\u001b[0m \u001b[32m━━━━━━━━━━━━━━━━━━━━\u001b[0m\u001b[37m\u001b[0m \u001b[1m5s\u001b[0m 2ms/step - accuracy: 0.9505 - loss: 0.1391 - val_accuracy: 0.9481 - val_loss: 0.1372\n",
            "Epoch 14/70\n",
            "\u001b[1m1591/1591\u001b[0m \u001b[32m━━━━━━━━━━━━━━━━━━━━\u001b[0m\u001b[37m\u001b[0m \u001b[1m2s\u001b[0m 1ms/step - accuracy: 0.9540 - loss: 0.1315 - val_accuracy: 0.9544 - val_loss: 0.1308\n",
            "Epoch 15/70\n",
            "\u001b[1m1591/1591\u001b[0m \u001b[32m━━━━━━━━━━━━━━━━━━━━\u001b[0m\u001b[37m\u001b[0m \u001b[1m3s\u001b[0m 2ms/step - accuracy: 0.9557 - loss: 0.1257 - val_accuracy: 0.9568 - val_loss: 0.1240\n",
            "Epoch 16/70\n",
            "\u001b[1m1591/1591\u001b[0m \u001b[32m━━━━━━━━━━━━━━━━━━━━\u001b[0m\u001b[37m\u001b[0m \u001b[1m3s\u001b[0m 2ms/step - accuracy: 0.9572 - loss: 0.1201 - val_accuracy: 0.9560 - val_loss: 0.1174\n",
            "Epoch 17/70\n",
            "\u001b[1m1591/1591\u001b[0m \u001b[32m━━━━━━━━━━━━━━━━━━━━\u001b[0m\u001b[37m\u001b[0m \u001b[1m5s\u001b[0m 2ms/step - accuracy: 0.9601 - loss: 0.1125 - val_accuracy: 0.9599 - val_loss: 0.1121\n",
            "Epoch 18/70\n",
            "\u001b[1m1591/1591\u001b[0m \u001b[32m━━━━━━━━━━━━━━━━━━━━\u001b[0m\u001b[37m\u001b[0m \u001b[1m2s\u001b[0m 1ms/step - accuracy: 0.9630 - loss: 0.1066 - val_accuracy: 0.9613 - val_loss: 0.1087\n",
            "Epoch 19/70\n",
            "\u001b[1m1591/1591\u001b[0m \u001b[32m━━━━━━━━━━━━━━━━━━━━\u001b[0m\u001b[37m\u001b[0m \u001b[1m3s\u001b[0m 2ms/step - accuracy: 0.9634 - loss: 0.1045 - val_accuracy: 0.9653 - val_loss: 0.1046\n",
            "Epoch 20/70\n",
            "\u001b[1m1591/1591\u001b[0m \u001b[32m━━━━━━━━━━━━━━━━━━━━\u001b[0m\u001b[37m\u001b[0m \u001b[1m3s\u001b[0m 2ms/step - accuracy: 0.9660 - loss: 0.1016 - val_accuracy: 0.9661 - val_loss: 0.1016\n",
            "Epoch 21/70\n",
            "\u001b[1m1591/1591\u001b[0m \u001b[32m━━━━━━━━━━━━━━━━━━━━\u001b[0m\u001b[37m\u001b[0m \u001b[1m4s\u001b[0m 3ms/step - accuracy: 0.9672 - loss: 0.0966 - val_accuracy: 0.9639 - val_loss: 0.0993\n",
            "Epoch 22/70\n",
            "\u001b[1m1591/1591\u001b[0m \u001b[32m━━━━━━━━━━━━━━━━━━━━\u001b[0m\u001b[37m\u001b[0m \u001b[1m3s\u001b[0m 2ms/step - accuracy: 0.9692 - loss: 0.0916 - val_accuracy: 0.9685 - val_loss: 0.0961\n",
            "Epoch 23/70\n",
            "\u001b[1m1591/1591\u001b[0m \u001b[32m━━━━━━━━━━━━━━━━━━━━\u001b[0m\u001b[37m\u001b[0m \u001b[1m5s\u001b[0m 2ms/step - accuracy: 0.9700 - loss: 0.0889 - val_accuracy: 0.9702 - val_loss: 0.0935\n",
            "Epoch 24/70\n",
            "\u001b[1m1591/1591\u001b[0m \u001b[32m━━━━━━━━━━━━━━━━━━━━\u001b[0m\u001b[37m\u001b[0m \u001b[1m3s\u001b[0m 2ms/step - accuracy: 0.9709 - loss: 0.0875 - val_accuracy: 0.9642 - val_loss: 0.0906\n",
            "Epoch 25/70\n",
            "\u001b[1m1591/1591\u001b[0m \u001b[32m━━━━━━━━━━━━━━━━━━━━\u001b[0m\u001b[37m\u001b[0m \u001b[1m3s\u001b[0m 2ms/step - accuracy: 0.9704 - loss: 0.0854 - val_accuracy: 0.9689 - val_loss: 0.0860\n",
            "Epoch 26/70\n",
            "\u001b[1m1591/1591\u001b[0m \u001b[32m━━━━━━━━━━━━━━━━━━━━\u001b[0m\u001b[37m\u001b[0m \u001b[1m3s\u001b[0m 2ms/step - accuracy: 0.9715 - loss: 0.0826 - val_accuracy: 0.9738 - val_loss: 0.0838\n",
            "Epoch 27/70\n",
            "\u001b[1m1591/1591\u001b[0m \u001b[32m━━━━━━━━━━━━━━━━━━━━\u001b[0m\u001b[37m\u001b[0m \u001b[1m3s\u001b[0m 2ms/step - accuracy: 0.9743 - loss: 0.0787 - val_accuracy: 0.9719 - val_loss: 0.0827\n",
            "Epoch 28/70\n",
            "\u001b[1m1591/1591\u001b[0m \u001b[32m━━━━━━━━━━━━━━━━━━━━\u001b[0m\u001b[37m\u001b[0m \u001b[1m3s\u001b[0m 2ms/step - accuracy: 0.9742 - loss: 0.0778 - val_accuracy: 0.9741 - val_loss: 0.0782\n",
            "Epoch 29/70\n",
            "\u001b[1m1591/1591\u001b[0m \u001b[32m━━━━━━━━━━━━━━━━━━━━\u001b[0m\u001b[37m\u001b[0m \u001b[1m3s\u001b[0m 2ms/step - accuracy: 0.9766 - loss: 0.0729 - val_accuracy: 0.9683 - val_loss: 0.0795\n",
            "Epoch 30/70\n",
            "\u001b[1m1591/1591\u001b[0m \u001b[32m━━━━━━━━━━━━━━━━━━━━\u001b[0m\u001b[37m\u001b[0m \u001b[1m4s\u001b[0m 1ms/step - accuracy: 0.9767 - loss: 0.0705 - val_accuracy: 0.9758 - val_loss: 0.0742\n",
            "Epoch 31/70\n",
            "\u001b[1m1591/1591\u001b[0m \u001b[32m━━━━━━━━━━━━━━━━━━━━\u001b[0m\u001b[37m\u001b[0m \u001b[1m3s\u001b[0m 2ms/step - accuracy: 0.9760 - loss: 0.0716 - val_accuracy: 0.9734 - val_loss: 0.0735\n",
            "Epoch 32/70\n",
            "\u001b[1m1591/1591\u001b[0m \u001b[32m━━━━━━━━━━━━━━━━━━━━\u001b[0m\u001b[37m\u001b[0m \u001b[1m6s\u001b[0m 2ms/step - accuracy: 0.9773 - loss: 0.0675 - val_accuracy: 0.9740 - val_loss: 0.0749\n",
            "Epoch 33/70\n",
            "\u001b[1m1591/1591\u001b[0m \u001b[32m━━━━━━━━━━━━━━━━━━━━\u001b[0m\u001b[37m\u001b[0m \u001b[1m4s\u001b[0m 1ms/step - accuracy: 0.9781 - loss: 0.0672 - val_accuracy: 0.9768 - val_loss: 0.0698\n",
            "Epoch 34/70\n",
            "\u001b[1m1591/1591\u001b[0m \u001b[32m━━━━━━━━━━━━━━━━━━━━\u001b[0m\u001b[37m\u001b[0m \u001b[1m3s\u001b[0m 2ms/step - accuracy: 0.9794 - loss: 0.0635 - val_accuracy: 0.9744 - val_loss: 0.0720\n",
            "Epoch 35/70\n",
            "\u001b[1m1591/1591\u001b[0m \u001b[32m━━━━━━━━━━━━━━━━━━━━\u001b[0m\u001b[37m\u001b[0m \u001b[1m3s\u001b[0m 2ms/step - accuracy: 0.9777 - loss: 0.0651 - val_accuracy: 0.9756 - val_loss: 0.0673\n",
            "Epoch 36/70\n",
            "\u001b[1m1591/1591\u001b[0m \u001b[32m━━━━━━━━━━━━━━━━━━━━\u001b[0m\u001b[37m\u001b[0m \u001b[1m3s\u001b[0m 2ms/step - accuracy: 0.9794 - loss: 0.0626 - val_accuracy: 0.9797 - val_loss: 0.0661\n",
            "Epoch 37/70\n",
            "\u001b[1m1591/1591\u001b[0m \u001b[32m━━━━━━━━━━━━━━━━━━━━\u001b[0m\u001b[37m\u001b[0m \u001b[1m3s\u001b[0m 2ms/step - accuracy: 0.9792 - loss: 0.0614 - val_accuracy: 0.9730 - val_loss: 0.0671\n",
            "Epoch 38/70\n",
            "\u001b[1m1591/1591\u001b[0m \u001b[32m━━━━━━━━━━━━━━━━━━━━\u001b[0m\u001b[37m\u001b[0m \u001b[1m5s\u001b[0m 1ms/step - accuracy: 0.9797 - loss: 0.0605 - val_accuracy: 0.9792 - val_loss: 0.0654\n",
            "Epoch 39/70\n",
            "\u001b[1m1591/1591\u001b[0m \u001b[32m━━━━━━━━━━━━━━━━━━━━\u001b[0m\u001b[37m\u001b[0m \u001b[1m3s\u001b[0m 1ms/step - accuracy: 0.9802 - loss: 0.0591 - val_accuracy: 0.9806 - val_loss: 0.0634\n",
            "Epoch 40/70\n",
            "\u001b[1m1591/1591\u001b[0m \u001b[32m━━━━━━━━━━━━━━━━━━━━\u001b[0m\u001b[37m\u001b[0m \u001b[1m4s\u001b[0m 2ms/step - accuracy: 0.9814 - loss: 0.0576 - val_accuracy: 0.9810 - val_loss: 0.0638\n",
            "Epoch 41/70\n",
            "\u001b[1m1591/1591\u001b[0m \u001b[32m━━━━━━━━━━━━━━━━━━━━\u001b[0m\u001b[37m\u001b[0m \u001b[1m4s\u001b[0m 2ms/step - accuracy: 0.9812 - loss: 0.0576 - val_accuracy: 0.9774 - val_loss: 0.0621\n",
            "Epoch 42/70\n",
            "\u001b[1m1591/1591\u001b[0m \u001b[32m━━━━━━━━━━━━━━━━━━━━\u001b[0m\u001b[37m\u001b[0m \u001b[1m2s\u001b[0m 1ms/step - accuracy: 0.9813 - loss: 0.0564 - val_accuracy: 0.9803 - val_loss: 0.0603\n",
            "Epoch 43/70\n",
            "\u001b[1m1591/1591\u001b[0m \u001b[32m━━━━━━━━━━━━━━━━━━━━\u001b[0m\u001b[37m\u001b[0m \u001b[1m3s\u001b[0m 2ms/step - accuracy: 0.9818 - loss: 0.0551 - val_accuracy: 0.9822 - val_loss: 0.0587\n",
            "Epoch 44/70\n",
            "\u001b[1m1591/1591\u001b[0m \u001b[32m━━━━━━━━━━━━━━━━━━━━\u001b[0m\u001b[37m\u001b[0m \u001b[1m3s\u001b[0m 2ms/step - accuracy: 0.9831 - loss: 0.0527 - val_accuracy: 0.9779 - val_loss: 0.0583\n",
            "Epoch 45/70\n",
            "\u001b[1m1591/1591\u001b[0m \u001b[32m━━━━━━━━━━━━━━━━━━━━\u001b[0m\u001b[37m\u001b[0m \u001b[1m3s\u001b[0m 2ms/step - accuracy: 0.9821 - loss: 0.0537 - val_accuracy: 0.9799 - val_loss: 0.0568\n",
            "Epoch 46/70\n",
            "\u001b[1m1591/1591\u001b[0m \u001b[32m━━━━━━━━━━━━━━━━━━━━\u001b[0m\u001b[37m\u001b[0m \u001b[1m2s\u001b[0m 1ms/step - accuracy: 0.9829 - loss: 0.0521 - val_accuracy: 0.9782 - val_loss: 0.0566\n",
            "Epoch 47/70\n",
            "\u001b[1m1591/1591\u001b[0m \u001b[32m━━━━━━━━━━━━━━━━━━━━\u001b[0m\u001b[37m\u001b[0m \u001b[1m3s\u001b[0m 1ms/step - accuracy: 0.9831 - loss: 0.0517 - val_accuracy: 0.9820 - val_loss: 0.0553\n",
            "Epoch 48/70\n",
            "\u001b[1m1591/1591\u001b[0m \u001b[32m━━━━━━━━━━━━━━━━━━━━\u001b[0m\u001b[37m\u001b[0m \u001b[1m2s\u001b[0m 1ms/step - accuracy: 0.9846 - loss: 0.0493 - val_accuracy: 0.9828 - val_loss: 0.0552\n",
            "Epoch 49/70\n",
            "\u001b[1m1591/1591\u001b[0m \u001b[32m━━━━━━━━━━━━━━━━━━━━\u001b[0m\u001b[37m\u001b[0m \u001b[1m3s\u001b[0m 2ms/step - accuracy: 0.9850 - loss: 0.0485 - val_accuracy: 0.9804 - val_loss: 0.0540\n",
            "Epoch 50/70\n",
            "\u001b[1m1591/1591\u001b[0m \u001b[32m━━━━━━━━━━━━━━━━━━━━\u001b[0m\u001b[37m\u001b[0m \u001b[1m3s\u001b[0m 2ms/step - accuracy: 0.9843 - loss: 0.0489 - val_accuracy: 0.9831 - val_loss: 0.0525\n",
            "Epoch 51/70\n",
            "\u001b[1m1591/1591\u001b[0m \u001b[32m━━━━━━━━━━━━━━━━━━━━\u001b[0m\u001b[37m\u001b[0m \u001b[1m3s\u001b[0m 2ms/step - accuracy: 0.9843 - loss: 0.0478 - val_accuracy: 0.9829 - val_loss: 0.0507\n",
            "Epoch 52/70\n",
            "\u001b[1m1591/1591\u001b[0m \u001b[32m━━━━━━━━━━━━━━━━━━━━\u001b[0m\u001b[37m\u001b[0m \u001b[1m3s\u001b[0m 2ms/step - accuracy: 0.9855 - loss: 0.0470 - val_accuracy: 0.9832 - val_loss: 0.0501\n",
            "Epoch 53/70\n",
            "\u001b[1m1591/1591\u001b[0m \u001b[32m━━━━━━━━━━━━━━━━━━━━\u001b[0m\u001b[37m\u001b[0m \u001b[1m3s\u001b[0m 2ms/step - accuracy: 0.9856 - loss: 0.0471 - val_accuracy: 0.9833 - val_loss: 0.0504\n",
            "Epoch 54/70\n",
            "\u001b[1m1591/1591\u001b[0m \u001b[32m━━━━━━━━━━━━━━━━━━━━\u001b[0m\u001b[37m\u001b[0m \u001b[1m3s\u001b[0m 2ms/step - accuracy: 0.9860 - loss: 0.0457 - val_accuracy: 0.9815 - val_loss: 0.0501\n",
            "Epoch 55/70\n",
            "\u001b[1m1591/1591\u001b[0m \u001b[32m━━━━━━━━━━━━━━━━━━━━\u001b[0m\u001b[37m\u001b[0m \u001b[1m5s\u001b[0m 2ms/step - accuracy: 0.9858 - loss: 0.0450 - val_accuracy: 0.9796 - val_loss: 0.0521\n",
            "Epoch 56/70\n",
            "\u001b[1m1591/1591\u001b[0m \u001b[32m━━━━━━━━━━━━━━━━━━━━\u001b[0m\u001b[37m\u001b[0m \u001b[1m3s\u001b[0m 2ms/step - accuracy: 0.9865 - loss: 0.0439 - val_accuracy: 0.9848 - val_loss: 0.0491\n",
            "Epoch 57/70\n",
            "\u001b[1m1591/1591\u001b[0m \u001b[32m━━━━━━━━━━━━━━━━━━━━\u001b[0m\u001b[37m\u001b[0m \u001b[1m3s\u001b[0m 2ms/step - accuracy: 0.9875 - loss: 0.0412 - val_accuracy: 0.9848 - val_loss: 0.0502\n",
            "Epoch 58/70\n",
            "\u001b[1m1591/1591\u001b[0m \u001b[32m━━━━━━━━━━━━━━━━━━━━\u001b[0m\u001b[37m\u001b[0m \u001b[1m5s\u001b[0m 2ms/step - accuracy: 0.9866 - loss: 0.0430 - val_accuracy: 0.9850 - val_loss: 0.0478\n",
            "Epoch 59/70\n",
            "\u001b[1m1591/1591\u001b[0m \u001b[32m━━━━━━━━━━━━━━━━━━━━\u001b[0m\u001b[37m\u001b[0m \u001b[1m2s\u001b[0m 1ms/step - accuracy: 0.9861 - loss: 0.0432 - val_accuracy: 0.9835 - val_loss: 0.0484\n",
            "Epoch 60/70\n",
            "\u001b[1m1591/1591\u001b[0m \u001b[32m━━━━━━━━━━━━━━━━━━━━\u001b[0m\u001b[37m\u001b[0m \u001b[1m3s\u001b[0m 2ms/step - accuracy: 0.9878 - loss: 0.0412 - val_accuracy: 0.9843 - val_loss: 0.0453\n",
            "Epoch 61/70\n",
            "\u001b[1m1591/1591\u001b[0m \u001b[32m━━━━━━━━━━━━━━━━━━━━\u001b[0m\u001b[37m\u001b[0m \u001b[1m7s\u001b[0m 3ms/step - accuracy: 0.9873 - loss: 0.0405 - val_accuracy: 0.9831 - val_loss: 0.0530\n",
            "Epoch 62/70\n",
            "\u001b[1m1591/1591\u001b[0m \u001b[32m━━━━━━━━━━━━━━━━━━━━\u001b[0m\u001b[37m\u001b[0m \u001b[1m3s\u001b[0m 1ms/step - accuracy: 0.9866 - loss: 0.0408 - val_accuracy: 0.9854 - val_loss: 0.0456\n",
            "Epoch 63/70\n",
            "\u001b[1m1591/1591\u001b[0m \u001b[32m━━━━━━━━━━━━━━━━━━━━\u001b[0m\u001b[37m\u001b[0m \u001b[1m3s\u001b[0m 1ms/step - accuracy: 0.9873 - loss: 0.0402 - val_accuracy: 0.9844 - val_loss: 0.0455\n",
            "Epoch 64/70\n",
            "\u001b[1m1591/1591\u001b[0m \u001b[32m━━━━━━━━━━━━━━━━━━━━\u001b[0m\u001b[37m\u001b[0m \u001b[1m3s\u001b[0m 2ms/step - accuracy: 0.9873 - loss: 0.0389 - val_accuracy: 0.9839 - val_loss: 0.0483\n",
            "Epoch 65/70\n",
            "\u001b[1m1591/1591\u001b[0m \u001b[32m━━━━━━━━━━━━━━━━━━━━\u001b[0m\u001b[37m\u001b[0m \u001b[1m6s\u001b[0m 2ms/step - accuracy: 0.9886 - loss: 0.0388 - val_accuracy: 0.9862 - val_loss: 0.0426\n",
            "Epoch 66/70\n",
            "\u001b[1m1591/1591\u001b[0m \u001b[32m━━━━━━━━━━━━━━━━━━━━\u001b[0m\u001b[37m\u001b[0m \u001b[1m4s\u001b[0m 1ms/step - accuracy: 0.9882 - loss: 0.0394 - val_accuracy: 0.9856 - val_loss: 0.0449\n",
            "Epoch 67/70\n",
            "\u001b[1m1591/1591\u001b[0m \u001b[32m━━━━━━━━━━━━━━━━━━━━\u001b[0m\u001b[37m\u001b[0m \u001b[1m3s\u001b[0m 1ms/step - accuracy: 0.9881 - loss: 0.0389 - val_accuracy: 0.9841 - val_loss: 0.0486\n",
            "Epoch 68/70\n",
            "\u001b[1m1591/1591\u001b[0m \u001b[32m━━━━━━━━━━━━━━━━━━━━\u001b[0m\u001b[37m\u001b[0m \u001b[1m3s\u001b[0m 2ms/step - accuracy: 0.9876 - loss: 0.0391 - val_accuracy: 0.9870 - val_loss: 0.0422\n",
            "Epoch 69/70\n",
            "\u001b[1m1591/1591\u001b[0m \u001b[32m━━━━━━━━━━━━━━━━━━━━\u001b[0m\u001b[37m\u001b[0m \u001b[1m5s\u001b[0m 2ms/step - accuracy: 0.9892 - loss: 0.0367 - val_accuracy: 0.9837 - val_loss: 0.0460\n",
            "Epoch 70/70\n",
            "\u001b[1m1591/1591\u001b[0m \u001b[32m━━━━━━━━━━━━━━━━━━━━\u001b[0m\u001b[37m\u001b[0m \u001b[1m2s\u001b[0m 1ms/step - accuracy: 0.9885 - loss: 0.0375 - val_accuracy: 0.9866 - val_loss: 0.0418\n"
          ]
        }
      ]
    },
    {
      "cell_type": "code",
      "source": [
        "#Modell bewerten\n",
        "\n",
        "loss, test_accuracy = model.evaluate(test_features, test_labels)\n",
        "print('Test Accuracy:', test_accuracy)"
      ],
      "metadata": {
        "colab": {
          "base_uri": "https://localhost:8080/"
        },
        "id": "Ex7GZ2r82f4b",
        "outputId": "4b722197-64d7-4186-d326-d96900ec2a1e"
      },
      "execution_count": null,
      "outputs": [
        {
          "output_type": "stream",
          "name": "stdout",
          "text": [
            "\u001b[1m498/498\u001b[0m \u001b[32m━━━━━━━━━━━━━━━━━━━━\u001b[0m\u001b[37m\u001b[0m \u001b[1m1s\u001b[0m 2ms/step - accuracy: 0.9865 - loss: 0.0406\n",
            "Test Accuracy: 0.9871134161949158\n"
          ]
        }
      ]
    },
    {
      "cell_type": "code",
      "source": [
        "# Trainingsverlauf plotten\n",
        "import matplotlib.pyplot as plt\n",
        "\n",
        "plt.plot(history.history['accuracy'])\n",
        "plt.plot(history.history['val_accuracy'])\n",
        "plt.title('Modellgenauigkeit')\n",
        "plt.ylabel('Genauigkeit')\n",
        "plt.xlabel('Epoche')\n",
        "plt.legend(['Train', 'Val'], loc='upper left')\n",
        "plt.show()"
      ],
      "metadata": {
        "colab": {
          "base_uri": "https://localhost:8080/",
          "height": 472
        },
        "id": "kK7ardIR23Tg",
        "outputId": "daf6eebb-ade7-4dec-fcbc-0c95db91a41d"
      },
      "execution_count": null,
      "outputs": [
        {
          "output_type": "display_data",
          "data": {
            "text/plain": [
              "<Figure size 640x480 with 1 Axes>"
            ],
            "image/png": "[encoded data removed]"
          },
          "metadata": {}
        }
      ]
    },
    {
      "cell_type": "code",
      "source": [
        "model.save('patient_severity_model.h5')"
      ],
      "metadata": {
        "colab": {
          "base_uri": "https://localhost:8080/"
        },
        "id": "zAhSTZ5F3U7t",
        "outputId": "19c37b92-230e-4071-b25b-c9af58f97c5d"
      },
      "execution_count": null,
      "outputs": [
        {
          "output_type": "stream",
          "name": "stderr",
          "text": [
            "WARNING:absl:You are saving your model as an HDF5 file via `model.save()` or `keras.saving.save_model(model)`. This file format is considered legacy. We recommend using instead the native Keras format, e.g. `model.save('my_model.keras')` or `keras.saving.save_model(model, 'my_model.keras')`. \n"
          ]
        }
      ]
    },
    {
      "cell_type": "code",
      "source": [
        "import joblib\n",
        "joblib.dump(scalar, 'scalar_transform.pkl')"
      ],
      "metadata": {
        "id": "w0r0POFs3zRc",
        "outputId": "41f5a337-1893-4d19-a46c-3235e2fba5e7",
        "colab": {
          "base_uri": "https://localhost:8080/"
        }
      },
      "execution_count": null,
      "outputs": [
        {
          "output_type": "execute_result",
          "data": {
            "text/plain": [
              "['scalar_transform.pkl']"
            ]
          },
          "metadata": {},
          "execution_count": 16
        }
      ]
    }
  ]
}